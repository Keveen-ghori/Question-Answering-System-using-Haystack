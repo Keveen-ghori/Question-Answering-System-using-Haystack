{
  "nbformat": 4,
  "nbformat_minor": 0,
  "metadata": {
    "colab": {
      "name": "qna.ipynb",
      "provenance": [],
      "authorship_tag": "ABX9TyNpNM8v7y8Bo8r0CGw/b1Bn",
      "include_colab_link": true
    },
    "kernelspec": {
      "name": "python3",
      "display_name": "Python 3"
    },
    "language_info": {
      "name": "python"
    },
    "accelerator": "GPU"
  },
  "cells": [
    {
      "cell_type": "markdown",
      "metadata": {
        "id": "view-in-github",
        "colab_type": "text"
      },
      "source": [
        "<a href=\"https://colab.research.google.com/github/Keveen-ghori/Question-Answering-System-using-Haystack/blob/main/qna.ipynb\" target=\"_parent\"><img src=\"https://colab.research.google.com/assets/colab-badge.svg\" alt=\"Open In Colab\"/></a>"
      ]
    },
    {
      "cell_type": "code",
      "execution_count": null,
      "metadata": {
        "colab": {
          "base_uri": "https://localhost:8080/"
        },
        "id": "2kSvvFtxl7hp",
        "outputId": "59842582-7ac3-4128-e181-533d3c8ba3bd"
      },
      "outputs": [
        {
          "output_type": "stream",
          "name": "stdout",
          "text": [
            "Fri May 13 04:06:14 2022       \n",
            "+-----------------------------------------------------------------------------+\n",
            "| NVIDIA-SMI 460.32.03    Driver Version: 460.32.03    CUDA Version: 11.2     |\n",
            "|-------------------------------+----------------------+----------------------+\n",
            "| GPU  Name        Persistence-M| Bus-Id        Disp.A | Volatile Uncorr. ECC |\n",
            "| Fan  Temp  Perf  Pwr:Usage/Cap|         Memory-Usage | GPU-Util  Compute M. |\n",
            "|                               |                      |               MIG M. |\n",
            "|===============================+======================+======================|\n",
            "|   0  Tesla T4            Off  | 00000000:00:04.0 Off |                    0 |\n",
            "| N/A   40C    P8     9W /  70W |      0MiB / 15109MiB |      0%      Default |\n",
            "|                               |                      |                  N/A |\n",
            "+-------------------------------+----------------------+----------------------+\n",
            "                                                                               \n",
            "+-----------------------------------------------------------------------------+\n",
            "| Processes:                                                                  |\n",
            "|  GPU   GI   CI        PID   Type   Process name                  GPU Memory |\n",
            "|        ID   ID                                                   Usage      |\n",
            "|=============================================================================|\n",
            "|  No running processes found                                                 |\n",
            "+-----------------------------------------------------------------------------+\n"
          ]
        }
      ],
      "source": [
        "# Make sure you have a GPU running\n",
        "!nvidia-smi"
      ]
    },
    {
      "cell_type": "code",
      "source": [
        "from haystack.document_store.elasticsearch import ElasticsearchDocumentStore"
      ],
      "metadata": {
        "colab": {
          "base_uri": "https://localhost:8080/",
          "height": 304
        },
        "id": "7Ru1zHq7mAzw",
        "outputId": "7f714511-5f11-47dd-97a2-a2c969c1f0fe"
      },
      "execution_count": null,
      "outputs": [
        {
          "output_type": "error",
          "ename": "ModuleNotFoundError",
          "evalue": "ignored",
          "traceback": [
            "\u001b[0;31m---------------------------------------------------------------------------\u001b[0m",
            "\u001b[0;31mModuleNotFoundError\u001b[0m                       Traceback (most recent call last)",
            "\u001b[0;32m<ipython-input-20-c1d5e5fc0f0b>\u001b[0m in \u001b[0;36m<module>\u001b[0;34m()\u001b[0m\n\u001b[0;32m----> 1\u001b[0;31m \u001b[0;32mfrom\u001b[0m \u001b[0mhaystack\u001b[0m\u001b[0;34m.\u001b[0m\u001b[0mdocument_store\u001b[0m\u001b[0;34m.\u001b[0m\u001b[0melasticsearch\u001b[0m \u001b[0;32mimport\u001b[0m \u001b[0mElasticsearchDocumentStore\u001b[0m\u001b[0;34m\u001b[0m\u001b[0;34m\u001b[0m\u001b[0m\n\u001b[0m",
            "\u001b[0;31mModuleNotFoundError\u001b[0m: No module named 'haystack.document_store.elasticsearch'; 'haystack.document_store' is not a package",
            "",
            "\u001b[0;31m---------------------------------------------------------------------------\u001b[0;32m\nNOTE: If your import is failing due to a missing package, you can\nmanually install dependencies using either !pip or !apt.\n\nTo view examples of installing some common dependencies, click the\n\"Open Examples\" button below.\n\u001b[0;31m---------------------------------------------------------------------------\u001b[0m\n"
          ],
          "errorDetails": {
            "actions": [
              {
                "action": "open_url",
                "actionText": "Open Examples",
                "url": "/notebooks/snippets/importing_libraries.ipynb"
              }
            ]
          }
        }
      ]
    },
    {
      "cell_type": "code",
      "source": [
        ""
      ],
      "metadata": {
        "colab": {
          "base_uri": "https://localhost:8080/"
        },
        "id": "aGHGcOv7mDOV",
        "outputId": "5777b6b0-4a1e-4b28-e6d8-a656de056972"
      },
      "execution_count": null,
      "outputs": [
        {
          "output_type": "stream",
          "name": "stderr",
          "text": [
            "INFO - haystack.modeling.model.optimization -  apex not found, won't use it. See https://nvidia.github.io/apex/\n",
            "ERROR - root -  Failed to import 'magic' (from 'python-magic' and 'python-magic-bin' on Windows). FileTypeClassifier will not perform mimetype detection on extensionless files. Please make sure the necessary OS libraries are installed if you need this functionality.\n"
          ]
        }
      ]
    },
    {
      "cell_type": "code",
      "source": [
        "# In-Memory Document Store\n",
        "from haystack.document_stores import InMemoryDocumentStore\n",
        "\n",
        "document_store = InMemoryDocumentStore()"
      ],
      "metadata": {
        "colab": {
          "base_uri": "https://localhost:8080/"
        },
        "id": "2AmEBcyTmGvY",
        "outputId": "53aaaae1-132e-4540-fdc9-4cc227e92ca0"
      },
      "execution_count": null,
      "outputs": [
        {
          "output_type": "stream",
          "name": "stderr",
          "text": [
            "INFO - haystack.telemetry -  Haystack sends anonymous usage data to understand the actual usage and steer dev efforts towards features that are most meaningful to users. You can opt-out at anytime by calling disable_telemetry() or by manually setting the environment variable HAYSTACK_TELEMETRY_ENABLED as described for different operating systems on the documentation page. More information at https://haystack.deepset.ai/guides/telemetry\n",
            "INFO - haystack.modeling.utils -  Using devices: CUDA:0\n",
            "INFO - haystack.modeling.utils -  Number of GPUs: 1\n"
          ]
        }
      ]
    },
    {
      "cell_type": "code",
      "source": [
        "# Let's first get some documents that we want to query\n",
        "# Here: 517 Wikipedia articles for Game of Thrones\n",
        "\n",
        "s3_url = \"https://www.kaspersky.com/resource-center/definitions/what-is-cyber-security\"\n",
        "fetch_archive_from_http(url=s3_url, output_dir=doc_dir)\n",
        "\n",
        "# convert files to dicts containing documents that can be indexed to our datastore\n",
        "# You can optionally supply a cleaning function that is applied to each doc (e.g. to remove footers)\n",
        "# It must take a str as input, and return a str.\n",
        "docs = convert_files_to_docs(dir_path=doc_dir, clean_func=clean_wiki_text, split_paragraphs=True)\n",
        "\n",
        "# We now have a list of dictionaries that we can write to our document store.\n",
        "# If your texts come from a different source (e.g. a DB), you can of course skip convert_files_to_dicts() and create the dictionaries yourself.\n",
        "# The default format here is: {\"name\": \"<some-document-name>, \"text\": \"<the-actual-text>\"}\n",
        "\n",
        "# Let's have a look at the first 3 entries:\n",
        "print(docs[:3])\n",
        "# Now, let's write the docs to our DB.\n",
        "document_store.write_documents(docs)"
      ],
      "metadata": {
        "colab": {
          "base_uri": "https://localhost:8080/"
        },
        "id": "O0pQcE1MmHvq",
        "outputId": "9bc4a037-2b0a-4391-aa39-55b3c46924ed"
      },
      "execution_count": null,
      "outputs": [
        {
          "output_type": "stream",
          "name": "stderr",
          "text": [
            "INFO - haystack.utils.import_utils -  Found data stored in `data/tutorial3`. Delete this first if you really want to fetch new data.\n",
            "INFO - haystack.utils.preprocessing -  Converting data/tutorial3/341_Ned_Stark.txt\n",
            "INFO - haystack.utils.preprocessing -  Converting data/tutorial3/85_Game_of_Thrones__Seven_Kingdoms.txt\n",
            "INFO - haystack.utils.preprocessing -  Converting data/tutorial3/444_Cripples__Bastards__and_Broken_Things.txt\n",
            "INFO - haystack.utils.preprocessing -  Converting data/tutorial3/21_The_Bear_and_the_Maiden_Fair__song_.txt\n",
            "INFO - haystack.utils.preprocessing -  Converting data/tutorial3/408_The_Last_of_the_Starks.txt\n",
            "INFO - haystack.utils.preprocessing -  Converting data/tutorial3/198_A_Clash_of_Kings.txt\n",
            "INFO - haystack.utils.preprocessing -  Converting data/tutorial3/262_Gilly__character_.txt\n",
            "INFO - haystack.utils.preprocessing -  Converting data/tutorial3/443_The_Kingsroad.txt\n",
            "INFO - haystack.utils.preprocessing -  Converting data/tutorial3/209_Mockingbird__Game_of_Thrones_.txt\n",
            "INFO - haystack.utils.preprocessing -  Converting data/tutorial3/447_You_Win_or_You_Die.txt\n",
            "INFO - haystack.utils.preprocessing -  Converting data/tutorial3/26_Game_of_Thrones__Season_3__soundtrack_.txt\n",
            "INFO - haystack.utils.preprocessing -  Converting data/tutorial3/191_Gendry.txt\n",
            "INFO - haystack.utils.preprocessing -  Converting data/tutorial3/347_Game_of_Thrones__season_2_.txt\n",
            "INFO - haystack.utils.preprocessing -  Converting data/tutorial3/452_Fire_and_Blood__Game_of_Thrones_.txt\n",
            "INFO - haystack.utils.preprocessing -  Converting data/tutorial3/217_The_Rogue_Prince.txt\n",
            "INFO - haystack.utils.preprocessing -  Converting data/tutorial3/358_A_Game_of_Thrones__Genesis.txt\n",
            "INFO - haystack.utils.preprocessing -  Converting data/tutorial3/99_A_Song_of_Ass_and_Fire.txt\n",
            "INFO - haystack.utils.preprocessing -  Converting data/tutorial3/22_The_Rains_of_Castamere__song_.txt\n",
            "INFO - haystack.utils.preprocessing -  Converting data/tutorial3/504_List_of_A_Song_of_Ice_and_Fire_video_games.txt\n",
            "INFO - haystack.utils.preprocessing -  Converting data/tutorial3/69_The_Red_Woman.txt\n",
            "INFO - haystack.utils.preprocessing -  Converting data/tutorial3/515_The_Door__Game_of_Thrones_.txt\n",
            "INFO - haystack.utils.preprocessing -  Converting data/tutorial3/195_World_of_A_Song_of_Ice_and_Fire.txt\n",
            "INFO - haystack.utils.preprocessing -  Converting data/tutorial3/224_The_Night_Lands.txt\n",
            "INFO - haystack.utils.preprocessing -  Converting data/tutorial3/435_White_Walker.txt\n",
            "INFO - haystack.utils.preprocessing -  Converting data/tutorial3/133_Game_of_Thrones__Season_5__soundtrack_.txt\n",
            "INFO - haystack.utils.preprocessing -  Converting data/tutorial3/475_A_Game_of_Thrones__role-playing_game_.txt\n",
            "INFO - haystack.utils.preprocessing -  Converting data/tutorial3/228_Souad_Faress.txt\n",
            "INFO - haystack.utils.preprocessing -  Converting data/tutorial3/348_The_Winds_of_Winter.txt\n",
            "INFO - haystack.utils.preprocessing -  Converting data/tutorial3/44_Daenerys_Targaryen.txt\n",
            "INFO - haystack.utils.preprocessing -  Converting data/tutorial3/212_The_Children__Game_of_Thrones_.txt\n",
            "INFO - haystack.utils.preprocessing -  Converting data/tutorial3/469_Outline_of_A_Song_of_Ice_and_Fire_franchise.txt\n",
            "INFO - haystack.utils.preprocessing -  Converting data/tutorial3/52_Catch_the_Throne.txt\n",
            "INFO - haystack.utils.preprocessing -  Converting data/tutorial3/135_Game_of_Thrones__Season_7__soundtrack_.txt\n",
            "INFO - haystack.utils.preprocessing -  Converting data/tutorial3/55_Breaker_of_Chains.txt\n",
            "INFO - haystack.utils.preprocessing -  Converting data/tutorial3/304_Hardhome.txt\n",
            "INFO - haystack.utils.preprocessing -  Converting data/tutorial3/39_Renly_Baratheon.txt\n",
            "INFO - haystack.utils.preprocessing -  Converting data/tutorial3/371_Cersei_Lannister.txt\n",
            "INFO - haystack.utils.preprocessing -  Converting data/tutorial3/396_Game_of_Thrones__season_6_.txt\n",
            "INFO - haystack.utils.preprocessing -  Converting data/tutorial3/513_Oathbreaker__Game_of_Thrones_.txt\n",
            "INFO - haystack.utils.preprocessing -  Converting data/tutorial3/340_Roose_Bolton.txt\n",
            "INFO - haystack.utils.preprocessing -  Converting data/tutorial3/450_Baelor.txt\n",
            "INFO - haystack.utils.preprocessing -  Converting data/tutorial3/456_Works_based_on_A_Song_of_Ice_and_Fire.txt\n",
            "INFO - haystack.utils.preprocessing -  Converting data/tutorial3/33_David_Benioff.txt\n",
            "INFO - haystack.utils.preprocessing -  Converting data/tutorial3/514_Book_of_the_Stranger.txt\n",
            "INFO - haystack.utils.preprocessing -  Converting data/tutorial3/151_Ellaria_Sand.txt\n",
            "INFO - haystack.utils.preprocessing -  Converting data/tutorial3/97_Tyrion_Lannister.txt\n",
            "INFO - haystack.utils.preprocessing -  Converting data/tutorial3/365_A_Song_of_Ice_and_Fire_Roleplaying.txt\n",
            "INFO - haystack.utils.preprocessing -  Converting data/tutorial3/482_Petyr_Baelish.txt\n",
            "INFO - haystack.utils.preprocessing -  Converting data/tutorial3/439_Melisandre.txt\n",
            "INFO - haystack.utils.preprocessing -  Converting data/tutorial3/199_A_Storm_of_Swords.txt\n",
            "INFO - haystack.utils.preprocessing -  Converting data/tutorial3/454_Music_of_Game_of_Thrones.txt\n",
            "INFO - haystack.utils.preprocessing -  Converting data/tutorial3/74_The_Prince_of_Winterfell.txt\n",
            "INFO - haystack.utils.preprocessing -  Converting data/tutorial3/311_Game_of_Thrones__season_7_.txt\n",
            "INFO - haystack.utils.preprocessing -  Converting data/tutorial3/211_The_Watchers_on_the_Wall.txt\n",
            "INFO - haystack.utils.preprocessing -  Converting data/tutorial3/118_Dark_Wings__Dark_Words.txt\n",
            "INFO - haystack.utils.preprocessing -  Converting data/tutorial3/79_Thronecast.txt\n",
            "INFO - haystack.utils.preprocessing -  Converting data/tutorial3/401_Power_Is_Power.txt\n",
            "INFO - haystack.utils.preprocessing -  Converting data/tutorial3/487_Ramsay_Bolton.txt\n",
            "INFO - haystack.utils.preprocessing -  Converting data/tutorial3/488_Brienne_of_Tarth.txt\n",
            "INFO - haystack.utils.preprocessing -  Converting data/tutorial3/98_Black_Friday__South_Park_.txt\n",
            "INFO - haystack.utils.preprocessing -  Converting data/tutorial3/197_A_Game_of_Thrones.txt\n",
            "INFO - haystack.utils.preprocessing -  Converting data/tutorial3/28_Jorah_Mormont.txt\n",
            "INFO - haystack.utils.preprocessing -  Converting data/tutorial3/378_A_Game_of_Thrones__board_game_.txt\n",
            "INFO - haystack.utils.preprocessing -  Converting data/tutorial3/37_Joffrey_Baratheon.txt\n",
            "INFO - haystack.utils.preprocessing -  Converting data/tutorial3/511_After_the_Thrones.txt\n",
            "INFO - haystack.utils.preprocessing -  Converting data/tutorial3/73_A_Man_Without_Honor.txt\n",
            "INFO - haystack.utils.preprocessing -  Converting data/tutorial3/360_List_of_Game_of_Thrones_episodes.txt\n",
            "INFO - haystack.utils.preprocessing -  Converting data/tutorial3/78_The_Rains_of_Castamere.txt\n",
            "INFO - haystack.utils.preprocessing -  Converting data/tutorial3/10_Beyond_the_Wall__Game_of_Thrones_.txt\n",
            "INFO - haystack.utils.preprocessing -  Converting data/tutorial3/477_A_Dance_with_Dragons.txt\n",
            "INFO - haystack.utils.preprocessing -  Converting data/tutorial3/148_Game_of_Thrones__Winter_Is_Coming.txt\n",
            "INFO - haystack.utils.preprocessing -  Converting data/tutorial3/379_Davos_Seaworth.txt\n",
            "INFO - haystack.utils.preprocessing -  Converting data/tutorial3/501_Khal_Drogo.txt\n",
            "INFO - haystack.utils.preprocessing -  Converting data/tutorial3/214_Dothraki_language.txt\n",
            "INFO - haystack.utils.preprocessing -  Converting data/tutorial3/442_Game_of_Thrones__season_1_.txt\n",
            "INFO - haystack.utils.preprocessing -  Converting data/tutorial3/485_Oathkeeper.txt\n",
            "INFO - haystack.utils.preprocessing -  Converting data/tutorial3/54_Two_Swords__Game_of_Thrones_.txt\n",
            "INFO - haystack.utils.preprocessing -  Converting data/tutorial3/373_Tywin_Lannister.txt\n",
            "INFO - haystack.utils.preprocessing -  Converting data/tutorial3/306_The_Dance_of_Dragons.txt\n",
            "INFO - haystack.utils.preprocessing -  Converting data/tutorial3/345_A_Game_of_Thrones__comics_.txt\n",
            "INFO - haystack.utils.preprocessing -  Converting data/tutorial3/346_Ygritte.txt\n",
            "INFO - haystack.utils.preprocessing -  Converting data/tutorial3/67_Unbowed__Unbent__Unbroken.txt\n",
            "INFO - haystack.utils.preprocessing -  Converting data/tutorial3/101_Titties_and_Dragons.txt\n",
            "INFO - haystack.utils.preprocessing -  Converting data/tutorial3/20_Light_of_the_Seven.txt\n",
            "INFO - haystack.utils.preprocessing -  Converting data/tutorial3/446_A_Golden_Crown.txt\n",
            "INFO - haystack.utils.preprocessing -  Converting data/tutorial3/495_Hodor.txt\n",
            "INFO - haystack.utils.preprocessing -  Converting data/tutorial3/506_Game_of_Thrones_Theme.txt\n",
            "INFO - haystack.utils.preprocessing -  Converting data/tutorial3/77_Game_of_Thrones_Ascent.txt\n",
            "INFO - haystack.utils.preprocessing -  Converting data/tutorial3/349_List_of_Game_of_Thrones_characters.txt\n",
            "INFO - haystack.utils.preprocessing -  Converting data/tutorial3/310_Mother_s_Mercy.txt\n",
            "INFO - haystack.utils.preprocessing -  Converting data/tutorial3/25_Game_of_Thrones__Season_2__soundtrack_.txt\n",
            "INFO - haystack.utils.preprocessing -  Converting data/tutorial3/8_Eastwatch.txt\n",
            "INFO - haystack.utils.preprocessing -  Converting data/tutorial3/411_The_Iron_Throne__Game_of_Thrones_.txt\n",
            "INFO - haystack.utils.preprocessing -  Converting data/tutorial3/407_The_Long_Night__Game_of_Thrones_.txt\n",
            "INFO - haystack.utils.preprocessing -  Converting data/tutorial3/145_Elio_M._García_Jr._and_Linda_Antonsson.txt\n",
            "INFO - haystack.utils.preprocessing -  Converting data/tutorial3/273_High_Sparrow.txt\n",
            "INFO - haystack.utils.preprocessing -  Converting data/tutorial3/334_Rickon_Stark.txt\n",
            "INFO - haystack.utils.preprocessing -  Converting data/tutorial3/508_A_Game_of_Thrones__Second_Edition__card_game_.txt\n",
            "INFO - haystack.utils.preprocessing -  Converting data/tutorial3/136_Game_of_Thrones__Season_8__soundtrack_.txt\n",
            "INFO - haystack.utils.preprocessing -  Converting data/tutorial3/461_The_Winds_of_Winter__Game_of_Thrones_.txt\n",
            "INFO - haystack.utils.preprocessing -  Converting data/tutorial3/299_Rani_Mahal__TV_series_.txt\n",
            "INFO - haystack.utils.preprocessing -  Converting data/tutorial3/399_For_the_Throne__Music_Inspired_by_the_HBO_Series_Game_of_Thrones.txt\n",
            "INFO - haystack.utils.preprocessing -  Converting data/tutorial3/207_Jon_Snow__character_.txt\n",
            "INFO - haystack.utils.preprocessing -  Converting data/tutorial3/210_The_Mountain_and_the_Viper.txt\n",
            "INFO - haystack.utils.preprocessing -  Converting data/tutorial3/460_Battle_of_the_Bastards.txt\n",
            "INFO - haystack.utils.preprocessing -  Converting data/tutorial3/119_Walk_of_Punishment.txt\n",
            "INFO - haystack.utils.preprocessing -  Converting data/tutorial3/395_Game_of_Thrones__season_5_.txt\n",
            "INFO - haystack.utils.preprocessing -  Converting data/tutorial3/424_Night_King.txt\n",
            "INFO - haystack.utils.preprocessing -  Converting data/tutorial3/330_Oberyn_Martell.txt\n",
            "INFO - haystack.utils.preprocessing -  Converting data/tutorial3/9_Game_of_Thrones_Tapestry.txt\n",
            "INFO - haystack.utils.preprocessing -  Converting data/tutorial3/40_Stannis_Baratheon.txt\n",
            "INFO - haystack.utils.preprocessing -  Converting data/tutorial3/30_List_of_A_Song_of_Ice_and_Fire_characters.txt\n",
            "INFO - haystack.utils.preprocessing -  Converting data/tutorial3/359_Kill_the_Boy.txt\n",
            "INFO - haystack.utils.preprocessing -  Converting data/tutorial3/23_Game_of_Thrones_Live_Concert_Experience.txt\n",
            "INFO - haystack.utils.preprocessing -  Converting data/tutorial3/229_Game_of_Thrones.txt\n",
            "INFO - haystack.utils.preprocessing -  Converting data/tutorial3/51_Iron_Throne__A_Song_of_Ice_and_Fire_.txt\n",
            "INFO - haystack.utils.preprocessing -  Converting data/tutorial3/84_List_of_awards_and_nominations_received_by_Game_of_Thrones.txt\n",
            "INFO - haystack.utils.preprocessing -  Converting data/tutorial3/331_Bran_Stark.txt\n",
            "INFO - haystack.utils.preprocessing -  Converting data/tutorial3/12_Fire.txt\n",
            "INFO - haystack.utils.preprocessing -  Converting data/tutorial3/342_Theon_Greyjoy.txt\n",
            "INFO - haystack.utils.preprocessing -  Converting data/tutorial3/317_The_Broken_Man.txt\n",
            "INFO - haystack.utils.preprocessing -  Converting data/tutorial3/394_Game_of_Thrones__2014_video_game_.txt\n",
            "INFO - haystack.utils.preprocessing -  Converting data/tutorial3/121_The_Bear_and_the_Maiden_Fair.txt\n",
            "INFO - haystack.utils.preprocessing -  Converting data/tutorial3/7_The_Spoils_of_War__Game_of_Thrones_.txt\n",
            "INFO - haystack.utils.preprocessing -  Converting data/tutorial3/56_First_of_His_Name.txt\n",
            "INFO - haystack.utils.preprocessing -  Converting data/tutorial3/80_A_Song_of_Ice_and_Fire_fandom.txt\n",
            "INFO - haystack.utils.preprocessing -  Converting data/tutorial3/87_Valar_Dohaeris.txt\n",
            "INFO - haystack.utils.preprocessing -  Converting data/tutorial3/11_The_Dragon_and_the_Wolf.txt\n",
            "INFO - haystack.utils.preprocessing -  Converting data/tutorial3/343_Catelyn_Stark.txt\n",
            "INFO - haystack.utils.preprocessing -  Converting data/tutorial3/120_And_Now_His_Watch_Is_Ended.txt\n",
            "INFO - haystack.utils.preprocessing -  Converting data/tutorial3/1_Dragonstone__Game_of_Thrones_episode_.txt\n",
            "INFO - haystack.utils.preprocessing -  Converting data/tutorial3/86_Game_of_Thrones__season_4_.txt\n",
            "INFO - haystack.utils.preprocessing -  Converting data/tutorial3/481_Sandor_Clegane.txt\n",
            "INFO - haystack.utils.preprocessing -  Converting data/tutorial3/202_A_Feast_for_Crows.txt\n",
            "INFO - haystack.utils.preprocessing -  Converting data/tutorial3/362_Winter_Is_Coming.txt\n",
            "INFO - haystack.utils.preprocessing -  Converting data/tutorial3/449_The_Pointy_End.txt\n",
            "INFO - haystack.utils.preprocessing -  Converting data/tutorial3/131_Mhysa.txt\n",
            "INFO - haystack.utils.preprocessing -  Converting data/tutorial3/233_Myrcella_Baratheon.txt\n",
            "INFO - haystack.utils.preprocessing -  Converting data/tutorial3/403_Jenny_of_Oldstones.txt\n",
            "INFO - haystack.utils.preprocessing -  Converting data/tutorial3/329_Robert_Baratheon.txt\n",
            "INFO - haystack.utils.preprocessing -  Converting data/tutorial3/68_The_Gift__Game_of_Thrones_.txt\n",
            "INFO - haystack.utils.preprocessing -  Converting data/tutorial3/134_Game_of_Thrones__Season_6__soundtrack_.txt\n",
            "INFO - haystack.utils.preprocessing -  Converting data/tutorial3/474_Bronn__character_.txt\n",
            "INFO - haystack.utils.preprocessing -  Converting data/tutorial3/160_Viserys_Targaryen.txt\n",
            "INFO - haystack.utils.preprocessing -  Converting data/tutorial3/43_Arya_Stark.txt\n",
            "INFO - haystack.utils.preprocessing -  Converting data/tutorial3/27_Game_of_Thrones__Season_4__soundtrack_.txt\n",
            "INFO - haystack.utils.preprocessing -  Converting data/tutorial3/3_The_Queen_s_Justice.txt\n",
            "INFO - haystack.utils.preprocessing -  Converting data/tutorial3/263_Tormund_Giantsbane.txt\n",
            "INFO - haystack.utils.preprocessing -  Converting data/tutorial3/368_Jaime_Lannister.txt\n",
            "INFO - haystack.utils.preprocessing -  Converting data/tutorial3/410_The_Bells__Game_of_Thrones_.txt\n",
            "INFO - haystack.utils.preprocessing -  Converting data/tutorial3/154_Margaery_Tyrell.txt\n",
            "INFO - haystack.utils.preprocessing -  Converting data/tutorial3/512_Home__Game_of_Thrones_.txt\n",
            "INFO - haystack.utils.preprocessing -  Converting data/tutorial3/194_A_Song_of_Ice_and_Fire.txt\n",
            "INFO - haystack.utils.preprocessing -  Converting data/tutorial3/356_Tales_of_Dunk_and_Egg.txt\n",
            "INFO - haystack.utils.preprocessing -  Converting data/tutorial3/453_Game_of_Thrones__2012_video_game_.txt\n",
            "INFO - haystack.utils.preprocessing -  Converting data/tutorial3/129_Second_Sons.txt\n",
            "INFO - haystack.utils.preprocessing -  Converting data/tutorial3/0_Game_of_Thrones__season_8_.txt\n",
            "INFO - haystack.utils.preprocessing -  Converting data/tutorial3/102_The_Princess_and_the_Queen.txt\n",
            "INFO - haystack.utils.preprocessing -  Converting data/tutorial3/332_Sansa_Stark.txt\n",
            "INFO - haystack.utils.preprocessing -  Converting data/tutorial3/24_Game_of_Thrones__Season_1__soundtrack_.txt\n",
            "INFO - haystack.utils.preprocessing -  Converting data/tutorial3/126_Kissed_by_Fire.txt\n",
            "INFO - haystack.utils.preprocessing -  Converting data/tutorial3/420_Blood_of_My_Blood.txt\n",
            "INFO - haystack.utils.preprocessing -  Converting data/tutorial3/146_The_Sons_of_the_Dragon.txt\n",
            "INFO - haystack.utils.preprocessing -  Converting data/tutorial3/75_Blackwater__Game_of_Thrones_.txt\n",
            "INFO - haystack.utils.preprocessing -  Converting data/tutorial3/130_Game_of_Thrones_title_sequence.txt\n",
            "INFO - haystack.utils.preprocessing -  Converting data/tutorial3/208_Robb_Stark.txt\n",
            "INFO - haystack.utils.preprocessing -  Converting data/tutorial3/218_Olenna_Tyrell.txt\n",
            "INFO - haystack.utils.preprocessing -  Converting data/tutorial3/201_A_Game_of_Thrones__card_game_.txt\n",
            "INFO - haystack.utils.preprocessing -  Converting data/tutorial3/57_The_Laws_of_Gods_and_Men.txt\n",
            "INFO - haystack.utils.preprocessing -  Converting data/tutorial3/445_The_Wolf_and_the_Lion.txt\n",
            "INFO - haystack.utils.preprocessing -  Converting data/tutorial3/127_The_Climb__Game_of_Thrones_.txt\n",
            "INFO - haystack.utils.preprocessing -  Converting data/tutorial3/2_Stormborn.txt\n",
            "INFO - haystack.utils.preprocessing -  Converting data/tutorial3/53_The_Lion_and_the_Rose.txt\n",
            "INFO - haystack.utils.preprocessing -  Converting data/tutorial3/213_Valyrian_languages.txt\n",
            "INFO - haystack.utils.preprocessing -  Converting data/tutorial3/400_Winterfell__Game_of_Thrones_episode_.txt\n",
            "INFO - haystack.utils.preprocessing -  Converting data/tutorial3/232_Tommen_Baratheon.txt\n",
            "INFO - haystack.utils.preprocessing -  Converting data/tutorial3/425_No_One__Game_of_Thrones_.txt\n",
            "INFO - haystack.utils.preprocessing -  Converting data/tutorial3/480_Varys.txt\n",
            "INFO - haystack.utils.preprocessing -  Converting data/tutorial3/76_Valar_Morghulis.txt\n",
            "INFO - haystack.utils.preprocessing -  Converting data/tutorial3/367_Gregor_Clegane.txt\n",
            "INFO - haystack.utils.preprocessing -  Converting data/tutorial3/402_A_Knight_of_the_Seven_Kingdoms__Game_of_Thrones_.txt\n",
            "INFO - haystack.utils.preprocessing -  Converting data/tutorial3/369_Samwell_Tarly.txt\n",
            "INFO - haystack.utils.preprocessing -  Converting data/tutorial3/193_Lord_Snow.txt\n",
            "INFO - haystack.document_stores.base -  Duplicate Documents: Document with id '9e9a3181b6bc168b4a25429b641e8c86' already exists in index 'document'\n",
            "INFO - haystack.document_stores.base -  Duplicate Documents: Document with id 'c8b51f62e0fccac8361c4464cc2c8f70' already exists in index 'document'\n",
            "INFO - haystack.document_stores.base -  Duplicate Documents: Document with id '1906b2acc6c764b69e619e5eb2fa646f' already exists in index 'document'\n",
            "INFO - haystack.document_stores.base -  Duplicate Documents: Document with id '1906b2acc6c764b69e619e5eb2fa646f' already exists in index 'document'\n",
            "INFO - haystack.document_stores.base -  Duplicate Documents: Document with id '7ed12f389f7f085bb30c7d00abd26f81' already exists in index 'document'\n",
            "INFO - haystack.document_stores.base -  Duplicate Documents: Document with id '1906b2acc6c764b69e619e5eb2fa646f' already exists in index 'document'\n",
            "INFO - haystack.document_stores.base -  Duplicate Documents: Document with id '9e9a3181b6bc168b4a25429b641e8c86' already exists in index 'document'\n",
            "INFO - haystack.document_stores.base -  Duplicate Documents: Document with id '9e9a3181b6bc168b4a25429b641e8c86' already exists in index 'document'\n",
            "INFO - haystack.document_stores.base -  Duplicate Documents: Document with id '7ed12f389f7f085bb30c7d00abd26f81' already exists in index 'document'\n",
            "INFO - haystack.document_stores.base -  Duplicate Documents: Document with id '7ed12f389f7f085bb30c7d00abd26f81' already exists in index 'document'\n",
            "INFO - haystack.document_stores.base -  Duplicate Documents: Document with id '9e9a3181b6bc168b4a25429b641e8c86' already exists in index 'document'\n",
            "INFO - haystack.document_stores.base -  Duplicate Documents: Document with id '9e9a3181b6bc168b4a25429b641e8c86' already exists in index 'document'\n",
            "INFO - haystack.document_stores.base -  Duplicate Documents: Document with id '817c9fdc70cdd9a74075ff1a32503409' already exists in index 'document'\n",
            "INFO - haystack.document_stores.base -  Duplicate Documents: Document with id '7ed12f389f7f085bb30c7d00abd26f81' already exists in index 'document'\n",
            "INFO - haystack.document_stores.base -  Duplicate Documents: Document with id '9e9a3181b6bc168b4a25429b641e8c86' already exists in index 'document'\n",
            "INFO - haystack.document_stores.base -  Duplicate Documents: Document with id '1906b2acc6c764b69e619e5eb2fa646f' already exists in index 'document'\n",
            "INFO - haystack.document_stores.base -  Duplicate Documents: Document with id '9e9a3181b6bc168b4a25429b641e8c86' already exists in index 'document'\n",
            "INFO - haystack.document_stores.base -  Duplicate Documents: Document with id '7ed12f389f7f085bb30c7d00abd26f81' already exists in index 'document'\n",
            "INFO - haystack.document_stores.base -  Duplicate Documents: Document with id '7ed12f389f7f085bb30c7d00abd26f81' already exists in index 'document'\n",
            "INFO - haystack.document_stores.base -  Duplicate Documents: Document with id '9e9a3181b6bc168b4a25429b641e8c86' already exists in index 'document'\n",
            "INFO - haystack.document_stores.base -  Duplicate Documents: Document with id '9e9a3181b6bc168b4a25429b641e8c86' already exists in index 'document'\n",
            "INFO - haystack.document_stores.base -  Duplicate Documents: Document with id 'c8b51f62e0fccac8361c4464cc2c8f70' already exists in index 'document'\n",
            "INFO - haystack.document_stores.base -  Duplicate Documents: Document with id 'c8b51f62e0fccac8361c4464cc2c8f70' already exists in index 'document'\n",
            "INFO - haystack.document_stores.base -  Duplicate Documents: Document with id '9e9a3181b6bc168b4a25429b641e8c86' already exists in index 'document'\n",
            "INFO - haystack.document_stores.base -  Duplicate Documents: Document with id 'c8b51f62e0fccac8361c4464cc2c8f70' already exists in index 'document'\n",
            "INFO - haystack.document_stores.base -  Duplicate Documents: Document with id '9e9a3181b6bc168b4a25429b641e8c86' already exists in index 'document'\n",
            "INFO - haystack.document_stores.base -  Duplicate Documents: Document with id '7ed12f389f7f085bb30c7d00abd26f81' already exists in index 'document'\n",
            "INFO - haystack.document_stores.base -  Duplicate Documents: Document with id '9e9a3181b6bc168b4a25429b641e8c86' already exists in index 'document'\n",
            "INFO - haystack.document_stores.base -  Duplicate Documents: Document with id '7ed12f389f7f085bb30c7d00abd26f81' already exists in index 'document'\n",
            "INFO - haystack.document_stores.base -  Duplicate Documents: Document with id '9e9a3181b6bc168b4a25429b641e8c86' already exists in index 'document'\n",
            "INFO - haystack.document_stores.base -  Duplicate Documents: Document with id '7ed12f389f7f085bb30c7d00abd26f81' already exists in index 'document'\n",
            "INFO - haystack.document_stores.base -  Duplicate Documents: Document with id '7ed12f389f7f085bb30c7d00abd26f81' already exists in index 'document'\n",
            "INFO - haystack.document_stores.base -  Duplicate Documents: Document with id 'c8b51f62e0fccac8361c4464cc2c8f70' already exists in index 'document'\n",
            "INFO - haystack.document_stores.base -  Duplicate Documents: Document with id '7ed12f389f7f085bb30c7d00abd26f81' already exists in index 'document'\n",
            "INFO - haystack.document_stores.base -  Duplicate Documents: Document with id '5d79fbf801011475553a09ab068f02e2' already exists in index 'document'\n",
            "INFO - haystack.document_stores.base -  Duplicate Documents: Document with id '9e9a3181b6bc168b4a25429b641e8c86' already exists in index 'document'\n",
            "INFO - haystack.document_stores.base -  Duplicate Documents: Document with id '9e9a3181b6bc168b4a25429b641e8c86' already exists in index 'document'\n",
            "INFO - haystack.document_stores.base -  Duplicate Documents: Document with id 'bbcb394a991cab6a7f8c18e5a294452f' already exists in index 'document'\n",
            "INFO - haystack.document_stores.base -  Duplicate Documents: Document with id '7ed12f389f7f085bb30c7d00abd26f81' already exists in index 'document'\n",
            "INFO - haystack.document_stores.base -  Duplicate Documents: Document with id '9e9a3181b6bc168b4a25429b641e8c86' already exists in index 'document'\n",
            "INFO - haystack.document_stores.base -  Duplicate Documents: Document with id '7ed12f389f7f085bb30c7d00abd26f81' already exists in index 'document'\n",
            "INFO - haystack.document_stores.base -  Duplicate Documents: Document with id '9e9a3181b6bc168b4a25429b641e8c86' already exists in index 'document'\n",
            "INFO - haystack.document_stores.base -  Duplicate Documents: Document with id '7ed12f389f7f085bb30c7d00abd26f81' already exists in index 'document'\n",
            "INFO - haystack.document_stores.base -  Duplicate Documents: Document with id '9e9a3181b6bc168b4a25429b641e8c86' already exists in index 'document'\n",
            "INFO - haystack.document_stores.base -  Duplicate Documents: Document with id 'c8b51f62e0fccac8361c4464cc2c8f70' already exists in index 'document'\n",
            "INFO - haystack.document_stores.base -  Duplicate Documents: Document with id '7ed12f389f7f085bb30c7d00abd26f81' already exists in index 'document'\n",
            "INFO - haystack.document_stores.base -  Duplicate Documents: Document with id '5d79fbf801011475553a09ab068f02e2' already exists in index 'document'\n",
            "INFO - haystack.document_stores.base -  Duplicate Documents: Document with id '1906b2acc6c764b69e619e5eb2fa646f' already exists in index 'document'\n",
            "INFO - haystack.document_stores.base -  Duplicate Documents: Document with id '9e9a3181b6bc168b4a25429b641e8c86' already exists in index 'document'\n",
            "INFO - haystack.document_stores.base -  Duplicate Documents: Document with id 'c8b51f62e0fccac8361c4464cc2c8f70' already exists in index 'document'\n",
            "INFO - haystack.document_stores.base -  Duplicate Documents: Document with id '9e9a3181b6bc168b4a25429b641e8c86' already exists in index 'document'\n",
            "INFO - haystack.document_stores.base -  Duplicate Documents: Document with id 'c8b51f62e0fccac8361c4464cc2c8f70' already exists in index 'document'\n",
            "INFO - haystack.document_stores.base -  Duplicate Documents: Document with id '356a0eb6f7957594eb516e6122a5cbe7' already exists in index 'document'\n",
            "INFO - haystack.document_stores.base -  Duplicate Documents: Document with id '7ed12f389f7f085bb30c7d00abd26f81' already exists in index 'document'\n",
            "INFO - haystack.document_stores.base -  Duplicate Documents: Document with id '1906b2acc6c764b69e619e5eb2fa646f' already exists in index 'document'\n",
            "INFO - haystack.document_stores.base -  Duplicate Documents: Document with id '7ed12f389f7f085bb30c7d00abd26f81' already exists in index 'document'\n",
            "INFO - haystack.document_stores.base -  Duplicate Documents: Document with id '356a0eb6f7957594eb516e6122a5cbe7' already exists in index 'document'\n",
            "INFO - haystack.document_stores.base -  Duplicate Documents: Document with id '9e9a3181b6bc168b4a25429b641e8c86' already exists in index 'document'\n",
            "INFO - haystack.document_stores.base -  Duplicate Documents: Document with id '9e9a3181b6bc168b4a25429b641e8c86' already exists in index 'document'\n",
            "INFO - haystack.document_stores.base -  Duplicate Documents: Document with id '9e9a3181b6bc168b4a25429b641e8c86' already exists in index 'document'\n",
            "INFO - haystack.document_stores.base -  Duplicate Documents: Document with id '9e9a3181b6bc168b4a25429b641e8c86' already exists in index 'document'\n",
            "INFO - haystack.document_stores.base -  Duplicate Documents: Document with id '7ed12f389f7f085bb30c7d00abd26f81' already exists in index 'document'\n",
            "INFO - haystack.document_stores.base -  Duplicate Documents: Document with id '9e9a3181b6bc168b4a25429b641e8c86' already exists in index 'document'\n",
            "INFO - haystack.document_stores.base -  Duplicate Documents: Document with id '1906b2acc6c764b69e619e5eb2fa646f' already exists in index 'document'\n",
            "INFO - haystack.document_stores.base -  Duplicate Documents: Document with id '994b9df41876668d9a5cae9510915a24' already exists in index 'document'\n",
            "INFO - haystack.document_stores.base -  Duplicate Documents: Document with id '1906b2acc6c764b69e619e5eb2fa646f' already exists in index 'document'\n",
            "INFO - haystack.document_stores.base -  Duplicate Documents: Document with id '7ed12f389f7f085bb30c7d00abd26f81' already exists in index 'document'\n",
            "INFO - haystack.document_stores.base -  Duplicate Documents: Document with id 'c8b51f62e0fccac8361c4464cc2c8f70' already exists in index 'document'\n",
            "INFO - haystack.document_stores.base -  Duplicate Documents: Document with id '7ed12f389f7f085bb30c7d00abd26f81' already exists in index 'document'\n",
            "INFO - haystack.document_stores.base -  Duplicate Documents: Document with id '9e9a3181b6bc168b4a25429b641e8c86' already exists in index 'document'\n",
            "INFO - haystack.document_stores.base -  Duplicate Documents: Document with id '9e9a3181b6bc168b4a25429b641e8c86' already exists in index 'document'\n",
            "INFO - haystack.document_stores.base -  Duplicate Documents: Document with id '7ed12f389f7f085bb30c7d00abd26f81' already exists in index 'document'\n",
            "INFO - haystack.document_stores.base -  Duplicate Documents: Document with id 'c8b51f62e0fccac8361c4464cc2c8f70' already exists in index 'document'\n",
            "INFO - haystack.document_stores.base -  Duplicate Documents: Document with id '9e9a3181b6bc168b4a25429b641e8c86' already exists in index 'document'\n",
            "INFO - haystack.document_stores.base -  Duplicate Documents: Document with id '5d79fbf801011475553a09ab068f02e2' already exists in index 'document'\n",
            "INFO - haystack.document_stores.base -  Duplicate Documents: Document with id 'c8b51f62e0fccac8361c4464cc2c8f70' already exists in index 'document'\n",
            "INFO - haystack.document_stores.base -  Duplicate Documents: Document with id '9e9a3181b6bc168b4a25429b641e8c86' already exists in index 'document'\n",
            "INFO - haystack.document_stores.base -  Duplicate Documents: Document with id '6c707fba969f19cd663ffd942f0fd20a' already exists in index 'document'\n",
            "INFO - haystack.document_stores.base -  Duplicate Documents: Document with id 'b8566e1914164a36b30f649be0cde065' already exists in index 'document'\n",
            "INFO - haystack.document_stores.base -  Duplicate Documents: Document with id '9e9a3181b6bc168b4a25429b641e8c86' already exists in index 'document'\n",
            "INFO - haystack.document_stores.base -  Duplicate Documents: Document with id '9e9a3181b6bc168b4a25429b641e8c86' already exists in index 'document'\n",
            "INFO - haystack.document_stores.base -  Duplicate Documents: Document with id '7ed12f389f7f085bb30c7d00abd26f81' already exists in index 'document'\n",
            "INFO - haystack.document_stores.base -  Duplicate Documents: Document with id '9e9a3181b6bc168b4a25429b641e8c86' already exists in index 'document'\n",
            "INFO - haystack.document_stores.base -  Duplicate Documents: Document with id 'c8b51f62e0fccac8361c4464cc2c8f70' already exists in index 'document'\n",
            "INFO - haystack.document_stores.base -  Duplicate Documents: Document with id 'c8b51f62e0fccac8361c4464cc2c8f70' already exists in index 'document'\n",
            "INFO - haystack.document_stores.base -  Duplicate Documents: Document with id '9e9a3181b6bc168b4a25429b641e8c86' already exists in index 'document'\n",
            "INFO - haystack.document_stores.base -  Duplicate Documents: Document with id '9e9a3181b6bc168b4a25429b641e8c86' already exists in index 'document'\n",
            "INFO - haystack.document_stores.base -  Duplicate Documents: Document with id '9e9a3181b6bc168b4a25429b641e8c86' already exists in index 'document'\n",
            "INFO - haystack.document_stores.base -  Duplicate Documents: Document with id '7ed12f389f7f085bb30c7d00abd26f81' already exists in index 'document'\n",
            "INFO - haystack.document_stores.base -  Duplicate Documents: Document with id '1906b2acc6c764b69e619e5eb2fa646f' already exists in index 'document'\n",
            "INFO - haystack.document_stores.base -  Duplicate Documents: Document with id 'c8b51f62e0fccac8361c4464cc2c8f70' already exists in index 'document'\n",
            "INFO - haystack.document_stores.base -  Duplicate Documents: Document with id '9e9a3181b6bc168b4a25429b641e8c86' already exists in index 'document'\n",
            "INFO - haystack.document_stores.base -  Duplicate Documents: Document with id '5d79fbf801011475553a09ab068f02e2' already exists in index 'document'\n",
            "INFO - haystack.document_stores.base -  Duplicate Documents: Document with id 'c8b51f62e0fccac8361c4464cc2c8f70' already exists in index 'document'\n",
            "INFO - haystack.document_stores.base -  Duplicate Documents: Document with id '3df21acc4c6427e99cc71a01f56667a6' already exists in index 'document'\n",
            "INFO - haystack.document_stores.base -  Duplicate Documents: Document with id '9e9a3181b6bc168b4a25429b641e8c86' already exists in index 'document'\n",
            "INFO - haystack.document_stores.base -  Duplicate Documents: Document with id '9e9a3181b6bc168b4a25429b641e8c86' already exists in index 'document'\n",
            "INFO - haystack.document_stores.base -  Duplicate Documents: Document with id '9e9a3181b6bc168b4a25429b641e8c86' already exists in index 'document'\n",
            "INFO - haystack.document_stores.base -  Duplicate Documents: Document with id '9e9a3181b6bc168b4a25429b641e8c86' already exists in index 'document'\n",
            "INFO - haystack.document_stores.base -  Duplicate Documents: Document with id 'c8b51f62e0fccac8361c4464cc2c8f70' already exists in index 'document'\n",
            "INFO - haystack.document_stores.base -  Duplicate Documents: Document with id '9e9a3181b6bc168b4a25429b641e8c86' already exists in index 'document'\n",
            "INFO - haystack.document_stores.base -  Duplicate Documents: Document with id '817c9fdc70cdd9a74075ff1a32503409' already exists in index 'document'\n",
            "INFO - haystack.document_stores.base -  Duplicate Documents: Document with id '356a0eb6f7957594eb516e6122a5cbe7' already exists in index 'document'\n",
            "INFO - haystack.document_stores.base -  Duplicate Documents: Document with id '7ed12f389f7f085bb30c7d00abd26f81' already exists in index 'document'\n",
            "INFO - haystack.document_stores.base -  Duplicate Documents: Document with id 'c8b51f62e0fccac8361c4464cc2c8f70' already exists in index 'document'\n",
            "INFO - haystack.document_stores.base -  Duplicate Documents: Document with id '6b61a45485d568ee7607061f918379c2' already exists in index 'document'\n",
            "INFO - haystack.document_stores.base -  Duplicate Documents: Document with id 'c8b51f62e0fccac8361c4464cc2c8f70' already exists in index 'document'\n",
            "INFO - haystack.document_stores.base -  Duplicate Documents: Document with id 'c8b51f62e0fccac8361c4464cc2c8f70' already exists in index 'document'\n",
            "INFO - haystack.document_stores.base -  Duplicate Documents: Document with id '7ed12f389f7f085bb30c7d00abd26f81' already exists in index 'document'\n",
            "INFO - haystack.document_stores.base -  Duplicate Documents: Document with id '7ed12f389f7f085bb30c7d00abd26f81' already exists in index 'document'\n",
            "INFO - haystack.document_stores.base -  Duplicate Documents: Document with id 'd3488ca3ea1ce433c8bce82b4b06909a' already exists in index 'document'\n",
            "INFO - haystack.document_stores.base -  Duplicate Documents: Document with id '7ed12f389f7f085bb30c7d00abd26f81' already exists in index 'document'\n",
            "INFO - haystack.document_stores.base -  Duplicate Documents: Document with id '994b9df41876668d9a5cae9510915a24' already exists in index 'document'\n",
            "INFO - haystack.document_stores.base -  Duplicate Documents: Document with id '1906b2acc6c764b69e619e5eb2fa646f' already exists in index 'document'\n",
            "INFO - haystack.document_stores.base -  Duplicate Documents: Document with id '7ed12f389f7f085bb30c7d00abd26f81' already exists in index 'document'\n",
            "INFO - haystack.document_stores.base -  Duplicate Documents: Document with id '9e9a3181b6bc168b4a25429b641e8c86' already exists in index 'document'\n",
            "INFO - haystack.document_stores.base -  Duplicate Documents: Document with id '9e9a3181b6bc168b4a25429b641e8c86' already exists in index 'document'\n",
            "INFO - haystack.document_stores.base -  Duplicate Documents: Document with id '9e9a3181b6bc168b4a25429b641e8c86' already exists in index 'document'\n",
            "INFO - haystack.document_stores.base -  Duplicate Documents: Document with id '619d203987121dd9c5c5e12e8e1fb153' already exists in index 'document'\n",
            "INFO - haystack.document_stores.base -  Duplicate Documents: Document with id '7ed12f389f7f085bb30c7d00abd26f81' already exists in index 'document'\n",
            "INFO - haystack.document_stores.base -  Duplicate Documents: Document with id 'b53667a464df31878e75c82ca2c9268f' already exists in index 'document'\n",
            "INFO - haystack.document_stores.base -  Duplicate Documents: Document with id '4fe5d3396a52edff7367d6137a7ea654' already exists in index 'document'\n",
            "INFO - haystack.document_stores.base -  Duplicate Documents: Document with id '7ed12f389f7f085bb30c7d00abd26f81' already exists in index 'document'\n",
            "INFO - haystack.document_stores.base -  Duplicate Documents: Document with id '1906b2acc6c764b69e619e5eb2fa646f' already exists in index 'document'\n",
            "INFO - haystack.document_stores.base -  Duplicate Documents: Document with id 'e089ba67cf8dba3efa466028c05de19f' already exists in index 'document'\n",
            "INFO - haystack.document_stores.base -  Duplicate Documents: Document with id '7ed12f389f7f085bb30c7d00abd26f81' already exists in index 'document'\n",
            "INFO - haystack.document_stores.base -  Duplicate Documents: Document with id '9e9a3181b6bc168b4a25429b641e8c86' already exists in index 'document'\n",
            "INFO - haystack.document_stores.base -  Duplicate Documents: Document with id 'c8b51f62e0fccac8361c4464cc2c8f70' already exists in index 'document'\n",
            "INFO - haystack.document_stores.base -  Duplicate Documents: Document with id '7ed12f389f7f085bb30c7d00abd26f81' already exists in index 'document'\n",
            "INFO - haystack.document_stores.base -  Duplicate Documents: Document with id '9e9a3181b6bc168b4a25429b641e8c86' already exists in index 'document'\n",
            "INFO - haystack.document_stores.base -  Duplicate Documents: Document with id '1906b2acc6c764b69e619e5eb2fa646f' already exists in index 'document'\n",
            "INFO - haystack.document_stores.base -  Duplicate Documents: Document with id '9e9a3181b6bc168b4a25429b641e8c86' already exists in index 'document'\n",
            "INFO - haystack.document_stores.base -  Duplicate Documents: Document with id '9e9a3181b6bc168b4a25429b641e8c86' already exists in index 'document'\n"
          ]
        },
        {
          "output_type": "stream",
          "name": "stdout",
          "text": [
            "[<Document: {'content': '\\'\\'\\'Eddard\\'\\'\\' \"\\'\\'\\'Ned\\'\\'\\'\" \\'\\'\\'Stark\\'\\'\\' is a fictional character in the 1996 fantasy novel \\'\\'A Game of Thrones\\'\\' by George R. R. Martin, and \\'\\'Game of Thrones\\'\\', HBO\\'s adaptation of Martin\\'s \\'\\'A Song of Ice and Fire\\'\\' series. In the storyline, Ned is the lord of Winterfell, an ancient fortress in the North of the fictional continent of Westeros. Though the character is established as the main character in the novel and the first season of the TV adaptation, a plot twist involving Ned at the end of the novel and the end of the first season shocked both readers of the book and viewers of the TV series.\\nNed is portrayed by Sean Bean in the first season of \\'\\'Game of Thrones\\'\\', as a child by Sebastian Croft in the sixth season and as a young adult by Robert Aramayo in the sixth and seventh seasons. Bean was nominated for a Saturn Award for Best Actor on Television and a Scream Award for Best Fantasy Actor for the role. He and the rest of the cast were nominated for Screen Actors Guild Awards for Outstanding Performance by an Ensemble in a Drama Series in 2011.', 'content_type': 'text', 'score': None, 'meta': {'name': '341_Ned_Stark.txt'}, 'embedding': None, 'id': 'd9ab45c659060b4ba91c1d49b15712e6'}>, <Document: {'content': '\\n=== Description ===\\nIn \\'\\'A Game of Thrones\\'\\' (1996), Ned Stark is introduced as the virtuous and honorable patriarch of House Stark and the father of six children. The moral compass of the story, he is content to remain far from courtly intrigues and is unwavering in his view of loyalty and honor. His family name, Stark, serves as an indication of his resistance to moral compromise, but his boundaries are increasingly tested over the course of the novel. Finding himself a key player in the escalating political intrigue of King\\'s Landing, Ned struggles as his own sense of honor draws him into corrupt goings-on at court. As the story progresses, he begins to see the importance of moral and practical compromises to achieve a just end, and is ultimately forced to choose between the safety of his family and doing what is right.\\nSean Bean said of the character, \"he’s a good man trying to do his best in the middle of this corruption, he’s a fish out of water, he’s used to being up north in Winterfell where people are pretty straight and pragmatic, and he comes down to a place where people are playing games and backstabbing … he’s a principled man who tries to hold things together. This is a journey that he makes where ultimately his loyalty causes his downfall.\"', 'content_type': 'text', 'score': None, 'meta': {'name': '341_Ned_Stark.txt'}, 'embedding': None, 'id': '87eab07372f9a0b072e935db5083cb73'}>, <Document: {'content': '\\n=== Development and overview ===\\n\\'\\'Publishers Weekly\\'\\' noted in 1996 that, despite the honest Ned Stark\\'s intervention in court politics, \"no amount of heroism or good intentions can keep the realm under control.\" From his very first introduction, Ned is portrayed as a noble hero and set up to be the heart of the story. With fifteen chapters devoted to his point of view, more than any single character in the novel, he is presented as a primary character in the series, and the main storyline of \\'\\'A Game of Thrones\\'\\', the drama in King\\'s Landing, is told entirely from his perspective. In the \\'\\'London Review of Books\\'\\', John Lanchester writes that everything about Ned is designed to gain audience sympathy, from his strong sense of honor and moral compass to his compassion towards his wife and children. Readers are led to believe that Ned will be the main character of the series, but ultimately he is, from a literary perspective, a classic decoy protagonist. After struggling to keep himself and the kingdom on a moral path for the entire novel, the only option that remains to save his family is to put aside his honor; he does so, but is betrayed anyway. Calling Ned\\'s execution \"shocking\", \\'\\'The New York Times\\'\\' noted in 2011 that the novel was \"famous for dispatching a thoroughly admirable major character with whom readers have been identifying for most of the book\". In an interview for \\'\\'Entertainment Weekly\\'\\', author George R. R. Martin commented on this misdirection:\\nDavid Benioff, executive producer and writer of the HBO adaptation, told \\'\\'Entertainment Weekly\\'\\' that when he read the novel:\\nIn a review of the \\'\\'Game of Thrones\\'\\' TV episode \"Baelor\", James Poniewozik wrote in \\'\\'Time\\'\\' that \"the execution of Eddard Stark is crucial to the story and its themes and everything that follows, but it\\'s also a meta-message to the reader: don\\'t take anything for granted here\". James Hibberd of \\'\\'Entertainment Weekly\\'\\' stated that tricking the audience into thinking Ned is the hero and then killing him makes the series\\' story better. Writing that \"the big twist here isn\\'t that Ned Stark dies, but who the true protagonists of \\'\\'Game of Thrones\\'\\' are\", Hibberd pointed out that the series\\' focus proves to be the \"new generation\" of leaders, in particular the Stark children but also Daenerys and even Tyrion. He noted:', 'content_type': 'text', 'score': None, 'meta': {'name': '341_Ned_Stark.txt'}, 'embedding': None, 'id': '45f2b4e5cf7c67a66bb3414486b6433d'}>]\n"
          ]
        },
        {
          "output_type": "stream",
          "name": "stderr",
          "text": [
            "INFO - haystack.document_stores.base -  Duplicate Documents: Document with id '9e9a3181b6bc168b4a25429b641e8c86' already exists in index 'document'\n",
            "INFO - haystack.document_stores.base -  Duplicate Documents: Document with id '7ed12f389f7f085bb30c7d00abd26f81' already exists in index 'document'\n",
            "INFO - haystack.document_stores.base -  Duplicate Documents: Document with id '9e9a3181b6bc168b4a25429b641e8c86' already exists in index 'document'\n",
            "INFO - haystack.document_stores.base -  Duplicate Documents: Document with id '7ed12f389f7f085bb30c7d00abd26f81' already exists in index 'document'\n",
            "INFO - haystack.document_stores.base -  Duplicate Documents: Document with id 'c8b51f62e0fccac8361c4464cc2c8f70' already exists in index 'document'\n",
            "INFO - haystack.document_stores.base -  Duplicate Documents: Document with id 'c8b51f62e0fccac8361c4464cc2c8f70' already exists in index 'document'\n",
            "INFO - haystack.document_stores.base -  Duplicate Documents: Document with id '9e9a3181b6bc168b4a25429b641e8c86' already exists in index 'document'\n"
          ]
        }
      ]
    },
    {
      "cell_type": "code",
      "source": [
        "# An in-memory TfidfRetriever based on Pandas dataframes\n",
        "\n",
        "from haystack.nodes import TfidfRetriever\n",
        "\n",
        "retriever = TfidfRetriever(document_store=document_store)"
      ],
      "metadata": {
        "colab": {
          "base_uri": "https://localhost:8080/"
        },
        "id": "YvgDx03kmNs1",
        "outputId": "9896b6ec-912c-4f24-a380-86a0d88299aa"
      },
      "execution_count": null,
      "outputs": [
        {
          "output_type": "stream",
          "name": "stderr",
          "text": [
            "INFO - haystack.nodes.retriever.sparse -  Found 2357 candidate paragraphs from 2357 docs in DB\n"
          ]
        }
      ]
    },
    {
      "cell_type": "code",
      "source": [
        "# Load a  local model or any of the QA models on\n",
        "# Hugging Face's model hub (https://huggingface.co/models)\n",
        "\n",
        "reader = FARMReader(model_name_or_path=\"deepset/roberta-base-squad2\", use_gpu=True)\n"
      ],
      "metadata": {
        "colab": {
          "base_uri": "https://localhost:8080/"
        },
        "id": "kHSysnb3mRvp",
        "outputId": "0e5c5abf-f23d-478a-debc-7123060d123f"
      },
      "execution_count": null,
      "outputs": [
        {
          "output_type": "stream",
          "name": "stderr",
          "text": [
            "INFO - haystack.modeling.utils -  Using devices: CUDA:0\n",
            "INFO - haystack.modeling.utils -  Number of GPUs: 1\n",
            "INFO - haystack.modeling.model.language_model -  LOADING MODEL\n",
            "INFO - haystack.modeling.model.language_model -  =============\n",
            "INFO - haystack.modeling.model.language_model -  Could not find deepset/roberta-base-squad2 locally.\n",
            "INFO - haystack.modeling.model.language_model -  Looking on Transformers Model Hub (in local cache and online)...\n",
            "INFO - haystack.modeling.model.language_model -  Loaded deepset/roberta-base-squad2\n",
            "INFO - haystack.modeling.utils -  Using devices: CUDA\n",
            "INFO - haystack.modeling.utils -  Number of GPUs: 1\n",
            "INFO - haystack.modeling.infer -  Got ya 2 parallel workers to do inference ...\n",
            "INFO - haystack.modeling.infer -   0     0  \n",
            "INFO - haystack.modeling.infer -  /w\\   /w\\ \n",
            "INFO - haystack.modeling.infer -  /'\\   / \\ \n"
          ]
        }
      ]
    },
    {
      "cell_type": "code",
      "source": [
        "from haystack.pipelines import ExtractiveQAPipeline\n",
        "\n",
        "pipe = ExtractiveQAPipeline(reader, retriever)"
      ],
      "metadata": {
        "id": "xE7qz2BDmXdp"
      },
      "execution_count": null,
      "outputs": []
    },
    {
      "cell_type": "code",
      "source": [
        "# You can configure how many candidates the reader and retriever shall return\n",
        "# The higher top_k for retriever, the better (but also the slower) your answers.\n",
        "prediction = pipe.run(\n",
        "    query=\"what is cyber security?\", params={\"Retriever\": {\"top_k\": 10}, \"Reader\": {\"top_k\": 5}}\n",
        ")"
      ],
      "metadata": {
        "colab": {
          "base_uri": "https://localhost:8080/"
        },
        "id": "zhJIUQeCmZiC",
        "outputId": "991d4adc-85f4-446e-fc52-08cbb4ed6f9e"
      },
      "execution_count": null,
      "outputs": [
        {
          "output_type": "stream",
          "name": "stderr",
          "text": [
            "Inferencing Samples:   0%|          | 0/1 [00:00<?, ? Batches/s]/usr/local/lib/python3.7/dist-packages/haystack/modeling/model/prediction_head.py:483: UserWarning: __floordiv__ is deprecated, and its behavior will change in a future version of pytorch. It currently rounds toward 0 (like the 'trunc' function NOT 'floor'). This results in incorrect rounding for negative values. To keep the current behavior, use torch.div(a, b, rounding_mode='trunc'), or for actual floor division, use torch.div(a, b, rounding_mode='floor').\n",
            "  start_indices = flat_sorted_indices // max_seq_len\n",
            "Inferencing Samples: 100%|██████████| 1/1 [00:00<00:00,  9.01 Batches/s]\n",
            "Inferencing Samples: 100%|██████████| 1/1 [00:00<00:00,  8.35 Batches/s]\n",
            "Inferencing Samples: 100%|██████████| 1/1 [00:00<00:00, 11.85 Batches/s]\n",
            "Inferencing Samples: 100%|██████████| 1/1 [00:00<00:00,  8.90 Batches/s]\n",
            "Inferencing Samples: 100%|██████████| 1/1 [00:00<00:00, 12.37 Batches/s]\n",
            "Inferencing Samples: 100%|██████████| 1/1 [00:00<00:00, 39.78 Batches/s]\n",
            "Inferencing Samples: 100%|██████████| 1/1 [00:00<00:00, 24.91 Batches/s]\n",
            "Inferencing Samples: 100%|██████████| 1/1 [00:00<00:00, 38.01 Batches/s]\n",
            "Inferencing Samples: 100%|██████████| 1/1 [00:00<00:00, 10.83 Batches/s]\n",
            "Inferencing Samples: 100%|██████████| 1/1 [00:00<00:00, 43.17 Batches/s]\n"
          ]
        }
      ]
    },
    {
      "cell_type": "code",
      "source": [
        "# Now you can either print the object directly...\n",
        "from pprint import pprint\n",
        "\n",
        "print(pprint(prediction))"
      ],
      "metadata": {
        "colab": {
          "base_uri": "https://localhost:8080/"
        },
        "id": "BIQytlg0meno",
        "outputId": "4244a766-fe2f-480e-dfda-09c3af78c4b1"
      },
      "execution_count": null,
      "outputs": [
        {
          "output_type": "stream",
          "name": "stdout",
          "text": [
            "{'answers': [<Answer {'answer': 'Eddard', 'type': 'extractive', 'score': 0.9919579923152924, 'context': \"s Nymeria after a legendary warrior queen. She travels with her father, Eddard, to King's Landing when he is made Hand of the King. Before she leaves,\", 'offsets_in_document': [{'start': 147, 'end': 153}], 'offsets_in_context': [{'start': 72, 'end': 78}], 'document_id': 'ba2a8e87ddd95e380bec55983ee7d55f', 'meta': {'name': '43_Arya_Stark.txt'}}>,\n",
            "             <Answer {'answer': 'Ned', 'type': 'extractive', 'score': 0.9767242968082428, 'context': \"\\n====Season 1====\\nArya accompanies her father Ned and her sister Sansa to King's Landing. Before their departure, Arya's half-brother Jon Snow gifts A\", 'offsets_in_document': [{'start': 46, 'end': 49}], 'offsets_in_context': [{'start': 46, 'end': 49}], 'document_id': '180c2a6b36369712b361a80842e79356', 'meta': {'name': '43_Arya_Stark.txt'}}>,\n",
            "             <Answer {'answer': 'Robert Baratheon', 'type': 'extractive', 'score': 0.940885454416275, 'context': 'hen Gendry gives it to Arya, he tells her he is the bastard son of Robert Baratheon. Aware of their chances of dying in the upcoming battle and Arya w', 'offsets_in_document': [{'start': 358, 'end': 374}], 'offsets_in_context': [{'start': 67, 'end': 83}], 'document_id': '7170114dfceb7ede0002a57d1df96505', 'meta': {'name': '43_Arya_Stark.txt'}}>,\n",
            "             <Answer {'answer': 'Eddard and Catelyn Stark', 'type': 'extractive', 'score': 0.9058836698532104, 'context': \"tark ===\\nArya Stark is the third child and younger daughter of Eddard and Catelyn Stark. She serves as a POV character for 33 chapters throughout ''A \", 'offsets_in_document': [{'start': 74, 'end': 98}], 'offsets_in_context': [{'start': 63, 'end': 87}], 'document_id': '965789c741c68963042e85b6e7b89757', 'meta': {'name': '30_List_of_A_Song_of_Ice_and_Fire_characters.txt'}}>,\n",
            "             <Answer {'answer': 'Lord Eddard Stark', 'type': 'extractive', 'score': 0.8930403888225555, 'context': 'ark daughters.\\nDuring the Tourney of the Hand to honour her father Lord Eddard Stark, Sansa Stark is enchanted by the knights performing in the event.', 'offsets_in_document': [{'start': 659, 'end': 676}], 'offsets_in_context': [{'start': 67, 'end': 84}], 'document_id': 'd1f36ec7170e4c46cde65787fe125dfe', 'meta': {'name': '332_Sansa_Stark.txt'}}>],\n",
            " 'documents': [<Document: {'content': \"\\n===Arya Stark===\\n'''Arya Stark''' portrayed by Maisie Williams. Arya Stark of House Stark is the younger daughter and third child of Lord Eddard and Catelyn Stark of Winterfell. Ever the tomboy, Arya would rather be training to use weapons than sewing with a needle. She names her direwolf Nymeria, after a legendary warrior queen.\", 'content_type': 'text', 'score': None, 'meta': {'name': '349_List_of_Game_of_Thrones_characters.txt'}, 'embedding': None, 'id': '623e446a1b048d81130a29e262152cd5'}>,\n",
            "               <Document: {'content': \"\\n====Season 8====\\nArya reunites with Jon, Gendry, and the Hound, who have all journeyed to Winterfell with Daenerys Targaryen's forces to make a stand against the approaching White Walkers. Arya asks Gendry, who is forging dragonglass into weapons, to make her a special dragonglass staff. When Gendry gives it to Arya, he tells her he is the bastard son of Robert Baratheon. Aware of their chances of dying in the upcoming battle and Arya wanting to experience sex, Arya and Gendry sleep together. Later that night, Arya hears the signal alerting her that the White Walkers' army has arrived.\\nArya fights in the battle against the dead with Sandor Clegane and Beric Dondarrion. Beric sacrifices himself to allow Arya and the Hound to escape the wights. A battered Arya sprints through the corridors of Winterfell and encounters Melisandre, who suggests to Arya that she is meant to kill the Night King. In the Godswood, just as the Night King is about to kill Bran, Arya sneaks up and stabs the Night King with the Valyrian steel dagger Bran gave her. Upon killing the Night King, the White Walkers and wights are all destroyed. \\nIn the aftermath of the battle, Arya is proposed to by Gendry, who had just been legitimised as a Baratheon by Daenerys. Arya declines, as she does not want the life of a lady. Sansa and Arya tell Jon they don't trust Daenerys, but Jon defends her. Arya learns that Jon is the son of her aunt, Lyanna Stark, and Rhaegar Targaryen after Jon swears her and Sansa to secrecy about his true parentage.\\nArya journeys south to King's Landing with the Hound to kill Cersei. The two infiltrate the Red Keep with the civilians Cersei is using to deter Daenerys' attack. Despite the city's surrender to Daenerys, she begins laying waste to the populace atop of Drogon. In his mission for revenge against his brother, the Mountain, the Hound seeks out the Mountain but urges Arya to leave and give up her quest for revenge to avoid a life consumed by it. Arya thanks the Hound, calling him by his name for the first time. She tries and fails to save the smallfolk, narrowly avoiding being incinerated in Daenerys' attack on the city, but survives. In the aftermath, Arya is reunited with Jon and warns him that he and the Starks are not safe from Daenerys. Jon tries but is unable to dissuade Daenerys from further destruction and ultimately assassinates her. He is imprisoned. Weeks later, Arya joins the other lords and ladies of Westeros in a council to decide who shall lead the Seven Kingdoms. Bran is chosen as king, though Arya abstains from voting as Sansa declares the North's independence. Arya, Sansa, and Bran bid Jon farewell as he is exiled. \\nArya reveals that she is leaving Westeros to see what lies west of the continent. She embarks on her voyage aboard a Stark ship.\", 'content_type': 'text', 'score': None, 'meta': {'name': '43_Arya_Stark.txt'}, 'embedding': None, 'id': '7170114dfceb7ede0002a57d1df96505'}>,\n",
            "               <Document: {'content': '\\n====Season 1====\\nArya accompanies her father Ned and her sister Sansa to King\\'s Landing. Before their departure, Arya\\'s half-brother Jon Snow gifts Arya a sword which she dubs \"Needle\". On the Kingsroad, Arya is sparring with a butcher\\'s boy, Mycah, when Sansa\\'s betrothed Prince Joffrey Baratheon attacks Mycah, prompting Arya\\'s direwolf Nymeria to bite Joffrey. Arya shoos Nymeria away so she is not killed, but is furious when Sansa later refuses to support her version of events. Mycah is later killed by Joffrey\\'s bodyguard Sandor \"The Hound\" Clegane, earning him Arya\\'s hatred. Ned arranges for Arya to have sword lessons with the Braavosi Syrio Forel, who later defends her from Ser Meryn Trant after Joffrey ascends to the throne and kills the Stark household. Arya flees the Red Keep, accidentally killing a stable boy in her escape, hiding out as a beggar in the streets of King\\'s Landing. Ned is eventually taken to the Great Sept of Baelor to face judgment; he spots Arya in the crowd, and alerts the Night\\'s Watch recruiter Yoren to her presence. Yoren prevents Arya from witnessing Ned\\'s execution and has her pose as a boy, \"Arry\", to avoid detection as she joins Yoren\\'s recruits traveling north to Castle Black.', 'content_type': 'text', 'score': None, 'meta': {'name': '43_Arya_Stark.txt'}, 'embedding': None, 'id': '180c2a6b36369712b361a80842e79356'}>,\n",
            "               <Document: {'content': '\\n===\\'\\'A Game of Thrones\\'\\'===\\nSansa Stark begins the novel by being betrothed to Crown Prince Joffrey Baratheon, believing Joffrey to be a gallant prince. While Joffrey and Sansa are walking through the woods, Joffrey notices Arya sparring with the butcher\\'s boy, Mycah. A fight breaks out and Joffrey is attacked by Nymeria (Arya\\'s direwolf) after Joffrey threatens to hurt Arya. Sansa lies to King Robert about the circumstances of the fight in order to protect both Joffrey and her sister Arya.  Since Arya ran off with her wolf to save it, Sansa\\'s wolf is killed instead, estranging the Stark daughters.\\nDuring the Tourney of the Hand to honour her father Lord Eddard Stark, Sansa Stark is enchanted by the knights performing in the event.  At the request of his mother, Queen Cersei Lannister, Joffrey spends a portion of the tourney with Sansa, but near the end he commands his guard Sandor Clegane, better known as The Hound, to take her back to her quarters. Sandor explains how his older brother, Gregor, aka \"Mountain that Rides\" pushed his face into a brazier of hot coals, for playing with one of his wooden toys.\\nAfter Eddard discovers the truth of Joffrey\\'s paternity, he tells Sansa that they will be heading back to Winterfell. Sansa is devastated and wishes to stay in King\\'s Landing, so she runs off to inform Queen Cersei of her father\\'s plans, unwittingly providing Cersei with the information needed to arrest her father. After Robert dies, Sansa begs Joffrey to show mercy on her father and he agrees, if Ned will swear an oath of loyalty, but executes him anyway, in front of Sansa.  Sansa is now effectively a hostage in King\\'s Landing and finally sees Joffrey\\'s true nature, after he forces her to look at the tarred head of her now-deceased father.', 'content_type': 'text', 'score': None, 'meta': {'name': '332_Sansa_Stark.txt'}, 'embedding': None, 'id': 'd1f36ec7170e4c46cde65787fe125dfe'}>,\n",
            "               <Document: {'content': '\\n===In Braavos===\\nLady Crane returns to her chambers to find a wounded Arya hiding inside, and helps stitch her wounds. She tells Arya that, thanks to her warning, she mutilated her would-be killer Bianca\\'s face before kicking her out of the acting company. She then offers to have Arya join them, but she refuses, saying that she intends to travel west of Westeros to see the edge of the world. As Arya recovers, the Waif arrives and kills Lady Crane, intending to kill Arya as well. Arya flees through the streets of Braavos, but during the chase, Arya\\'s wounds reopen and she limps back to her hideout with the Waif in pursuit. As the Waif closes in, Arya extinguishes the candle lighting the room; having trained while blinded for several weeks, Arya has the upper hand.\\nAt the House of Black and White, Jaqen follows a bloodtrail to the Hall of Faces, where he finds the Waif\\'s face before being held at sword-point by Arya. Jaqen congratulates Arya for finally becoming No One. However, she rejects the title, asserting her identity as Arya Stark before turning and leaving, announcing that she is \"going home.\" Jaqen proudly watches on as she leaves.', 'content_type': 'text', 'score': None, 'meta': {'name': '425_No_One__Game_of_Thrones_.txt'}, 'embedding': None, 'id': '4544f93ec64313e603729e14d0f75f47'}>,\n",
            "               <Document: {'content': \"\\n== Characters ==\\nThe tale is told through the eyes of 9 recurring POV characters plus one prologue POV character:\\n* Prologue: Maester Cressen, maester at Dragonstone\\n* Tyrion Lannister, youngest son of Lord Tywin Lannister, a dwarf and a brother to Queen Cersei, and the acting Hand of the King\\n* Lady Catelyn Stark, of House Tully, widow of Eddard Stark, Lord of Winterfell\\n* Ser Davos Seaworth, a smuggler turned knight in the service of King Stannis Baratheon, often called the Onion Knight\\n* Sansa Stark, eldest daughter of Eddard Stark and Catelyn Stark, held captive by Queen Cersei at King's Landing\\n* Arya Stark, youngest daughter of Eddard Stark and Catelyn Stark, missing and presumed dead\\n* Bran Stark, second son of Eddard Stark and Catelyn Stark and heir to Winterfell and the King in the North\\n* Jon Snow, bastard son of Eddard Stark, and a man of the Night's Watch\\n* Theon Greyjoy, heir to the Seastone Chair and former ward of Lord Eddard Stark\\n* Queen Daenerys Targaryen, the Unburnt and Mother of Dragons, of the Targaryen dynasty\", 'content_type': 'text', 'score': None, 'meta': {'name': '198_A_Clash_of_Kings.txt'}, 'embedding': None, 'id': '7d99e8285308088d31ce4fda71e01942'}>,\n",
            "               <Document: {'content': '\\n==== \\'\\'A Game of Thrones\\'\\' ====\\nArya adopts a direwolf cub, which she names Nymeria after a legendary warrior queen. She travels with her father, Eddard, to King\\'s Landing when he is made Hand of the King. Before she leaves, her half-brother Jon Snow has a smallsword made for her as a parting gift, which she names \"Needle\" after her least favorite ladylike activity.\\nWhile taking a walk together, Prince Joffrey and her sister Sansa happen upon Arya and her friend, the low-born butcher apprentice Mycah, sparring in the woods with broomsticks.  Arya defends Mycah from Joffrey\\'s torments and her direwolf Nymeria helps Arya fight off Joffrey, wounding his arm in the process.  Knowing that Nymeria will likely be killed in retribution, Arya chases her wolf away; but Sansa\\'s direwolf Lady is killed in Nymeria\\'s stead and Mycah is hunted down and killed by Sandor Clegane, Joffrey\\'s bodyguard.\\nIn King\\'s Landing, her father discovers Arya\\'s possession of Needle, but instead of confiscating it he arranges for fencing lessons under the Braavosi swordmaster Syrio Forel, who teaches her the style of fighting known as \"water dancing\".  After her father\\'s arrest, Syrio is killed protecting her and Arya narrowly escapes capture.  She later witnesses the public execution of her father before falling under the protection of the Night\\'s Watch recruiter Yoren.', 'content_type': 'text', 'score': None, 'meta': {'name': '43_Arya_Stark.txt'}, 'embedding': None, 'id': 'ba2a8e87ddd95e380bec55983ee7d55f'}>,\n",
            "               <Document: {'content': \"\\n====Season 7====\\nTaking the face of Walder Frey, Arya gathers the men of House Frey for a feast before killing them all with poisoned wine. Arya then journeys south, intending to travel to King's Landing to assassinate Cersei (now Queen of the Seven Kingdoms following the extinction of House Baratheon). However, Arya changes her mind after learning from Hot Pie that Jon has ousted House Bolton from Winterfell and has been crowned King in the North, and decides to return to her ancestral home. Along the way she encounters a wolf pack led by her long-lost direwolf Nymeria. Nymeria recognizes Arya, but she has grown feral and ignores Arya when she asks her to come North with her.\\nArriving at Winterfell, Arya finds that Jon has traveled to Dragonstone but is reunited with Sansa and Bran. Bran reveals his knowledge of Arya's kill list through greenseeing and presents her with a Valyrian steel dagger, which had been given to him by Littlefinger. Arya is also reunited with Brienne, who continues to serve the Starks, and manages to equal the female warrior during sparring despite her smaller size.\\nLittlefinger seeks to increase his influence on Sansa by driving a wedge between the Stark sisters. To this end, he allows Arya to witness him receiving a confidential message obtained from Maester Luwin's records. Arya breaks into Littlefinger's quarters to steal the message, which is a plea sent by Sansa following Ned's imprisonment to Robb imploring him to bend the knee to Joffrey. Outraged, Arya confronts Sansa and is unconvinced by her explanation that she did so to try and save Ned's life. Later, Arya catches Sansa looking at her collection of faces and threatens Sansa before leaving. Some time later, Sansa summons Arya to the great hall and begins an accusation of treason and murder; however, the accusation is directed towards Littlefinger, whose crimes have been discovered by Bran's greenseeing. Despite Littlefinger's pleas for mercy, Sansa sentences Littlefinger to death and Arya cuts his throat with the Valyrian steel dagger. The Stark sisters later resolve their differences, and acknowledge that the Starks must stay together to survive winter.\", 'content_type': 'text', 'score': None, 'meta': {'name': '43_Arya_Stark.txt'}, 'embedding': None, 'id': '258fc5f9015663050b4c78d5b47d14fa'}>,\n",
            "               <Document: {'content': \"\\n=== Arya Stark ===\\nArya Stark is the third child and younger daughter of Eddard and Catelyn Stark. She serves as a POV character for 33 chapters throughout ''A Game of Thrones'', ''A Clash of Kings'', ''A Storm of Swords'', ''A Feast for Crows'', and ''A Dance with Dragons''. So far she is the only character to appear in all 5 books as a POV character.\\nIn the HBO television adaptation, she is portrayed by Maisie Williams.\", 'content_type': 'text', 'score': None, 'meta': {'name': '30_List_of_A_Song_of_Ice_and_Fire_characters.txt'}, 'embedding': None, 'id': '965789c741c68963042e85b6e7b89757'}>,\n",
            "               <Document: {'content': '\\n===On the Kingsroad===\\nCity Watchmen search the caravan for Gendry but are turned away by Yoren. Gendry tells Arya Stark that he knows she is a girl, and she reveals she is actually Arya Stark after learning that her father met Gendry before he was executed.', 'content_type': 'text', 'score': None, 'meta': {'name': '224_The_Night_Lands.txt'}, 'embedding': None, 'id': 'a4d2cc51d351b785c6effddd3345bb39'}>],\n",
            " 'no_ans_gap': 11.688876628875732,\n",
            " 'node_id': 'Reader',\n",
            " 'params': {'Reader': {'top_k': 5}, 'Retriever': {'top_k': 10}},\n",
            " 'query': 'Who is the father of Arya Stark?',\n",
            " 'root_node': 'Query'}\n",
            "None\n"
          ]
        }
      ]
    },
    {
      "cell_type": "code",
      "source": [
        "# ...or use a util to simplify the output\n",
        "# Change `minimum` to `medium` or `all` to raise the level of detail\n",
        "print_answers(prediction, details=\"minimum\")"
      ],
      "metadata": {
        "colab": {
          "base_uri": "https://localhost:8080/"
        },
        "id": "INNqTh5FmfP2",
        "outputId": "d2c6eeaa-1ec8-47c5-b8ab-809b5228b1dc"
      },
      "execution_count": null,
      "outputs": [
        {
          "output_type": "stream",
          "name": "stdout",
          "text": [
            "\n",
            "Query: what is cyber security?\n",
            "Answers:\n",
            "[   {   'answer': 'No One',\n",
            "        'context': 'isode was written by series co-creators David Benioff and '\n",
            "                   'D. B. Weiss.\\n'\n",
            "                   '\"No One\" was written by the series\\' creators David '\n",
            "                   'Benioff and D. B. Weiss.\\n'\n",
            "                   'In '},\n",
            "    {   'answer': 'Weiss',\n",
            "        'context': ' what I once was.\"\\n'\n",
            "                   'In the conclusion of the \"Inside the Episode\" segment '\n",
            "                   'Weiss spoke about Arya\\'s story, saying \"Arya is in '\n",
            "                   \"danger, she's got an open \"},\n",
            "    {   'answer': '===Description===',\n",
            "        'context': '\\n'\n",
            "                   '===Description===\\n'\n",
            "                   \"In ''A Game of Thrones'' (1996), Jaime is introduced as \"\n",
            "                   'one of the Kingsguard, the royal security detail, and the '\n",
            "                   'son of the wealth'},\n",
            "    {   'answer': 'security breach',\n",
            "        'context': 'e \"for internal viewing only\" watermark. On July 31, 2017, '\n",
            "                   'due to a security breach, HBO was the victim of 1.5 '\n",
            "                   'terabytes of stolen data. However, \"thi'},\n",
            "    {   'answer': '===Writing===',\n",
            "        'context': '\\n'\n",
            "                   '===Writing===\\n'\n",
            "                   'With the end of the fifth season, the content of the show '\n",
            "                   \"has reached the plot of the latest novel in Martin's ''A \"\n",
            "                   'Song of Ice and Fire'}]\n"
          ]
        }
      ]
    }
  ]
}